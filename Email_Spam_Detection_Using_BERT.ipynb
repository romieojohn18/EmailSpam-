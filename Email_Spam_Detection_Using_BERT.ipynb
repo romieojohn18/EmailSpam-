{
  "nbformat": 4,
  "nbformat_minor": 0,
  "metadata": {
    "colab": {
      "name": "Email_Spam_Detection_Using_BERT.ipynb",
      "provenance": []
    },
    "kernelspec": {
      "name": "python3",
      "display_name": "Python 3"
    },
    "language_info": {
      "name": "python"
    }
  },
  "cells": [
    {
      "cell_type": "code",
      "metadata": {
        "id": "3FQkAONUqeUu"
      },
      "source": [
        "import tensorflow_hub as hub\n",
        "import pandas as pd\n",
        "import tensorflow_text as text\n",
        "import matplotlib.pyplot as plt\n",
        "from sklearn.model_selection import train_test_split\n",
        "import tensorflow as tf\n",
        "import numpy as np"
      ],
      "execution_count": 3,
      "outputs": []
    },
    {
      "cell_type": "code",
      "metadata": {
        "colab": {
          "base_uri": "https://localhost:8080/"
        },
        "id": "YcC9cSkbyE21",
        "outputId": "3b3867e9-2b24-4e4f-b95f-8ed840049edf"
      },
      "source": [
        "!pip3 install tensorflow_text"
      ],
      "execution_count": 2,
      "outputs": [
        {
          "output_type": "stream",
          "name": "stdout",
          "text": [
            "Collecting tensorflow_text\n",
            "  Downloading tensorflow_text-2.6.0-cp37-cp37m-manylinux1_x86_64.whl (4.4 MB)\n",
            "\u001b[K     |████████████████████████████████| 4.4 MB 7.1 MB/s \n",
            "\u001b[?25hRequirement already satisfied: tensorflow<2.7,>=2.6.0 in /usr/local/lib/python3.7/dist-packages (from tensorflow_text) (2.6.0)\n",
            "Requirement already satisfied: tensorflow-hub>=0.8.0 in /usr/local/lib/python3.7/dist-packages (from tensorflow_text) (0.12.0)\n",
            "Requirement already satisfied: flatbuffers~=1.12.0 in /usr/local/lib/python3.7/dist-packages (from tensorflow<2.7,>=2.6.0->tensorflow_text) (1.12)\n",
            "Requirement already satisfied: keras-preprocessing~=1.1.2 in /usr/local/lib/python3.7/dist-packages (from tensorflow<2.7,>=2.6.0->tensorflow_text) (1.1.2)\n",
            "Requirement already satisfied: numpy~=1.19.2 in /usr/local/lib/python3.7/dist-packages (from tensorflow<2.7,>=2.6.0->tensorflow_text) (1.19.5)\n",
            "Requirement already satisfied: termcolor~=1.1.0 in /usr/local/lib/python3.7/dist-packages (from tensorflow<2.7,>=2.6.0->tensorflow_text) (1.1.0)\n",
            "Requirement already satisfied: grpcio<2.0,>=1.37.0 in /usr/local/lib/python3.7/dist-packages (from tensorflow<2.7,>=2.6.0->tensorflow_text) (1.40.0)\n",
            "Requirement already satisfied: protobuf>=3.9.2 in /usr/local/lib/python3.7/dist-packages (from tensorflow<2.7,>=2.6.0->tensorflow_text) (3.17.3)\n",
            "Requirement already satisfied: tensorflow-estimator~=2.6 in /usr/local/lib/python3.7/dist-packages (from tensorflow<2.7,>=2.6.0->tensorflow_text) (2.6.0)\n",
            "Requirement already satisfied: six~=1.15.0 in /usr/local/lib/python3.7/dist-packages (from tensorflow<2.7,>=2.6.0->tensorflow_text) (1.15.0)\n",
            "Requirement already satisfied: gast==0.4.0 in /usr/local/lib/python3.7/dist-packages (from tensorflow<2.7,>=2.6.0->tensorflow_text) (0.4.0)\n",
            "Requirement already satisfied: opt-einsum~=3.3.0 in /usr/local/lib/python3.7/dist-packages (from tensorflow<2.7,>=2.6.0->tensorflow_text) (3.3.0)\n",
            "Requirement already satisfied: google-pasta~=0.2 in /usr/local/lib/python3.7/dist-packages (from tensorflow<2.7,>=2.6.0->tensorflow_text) (0.2.0)\n",
            "Requirement already satisfied: absl-py~=0.10 in /usr/local/lib/python3.7/dist-packages (from tensorflow<2.7,>=2.6.0->tensorflow_text) (0.12.0)\n",
            "Requirement already satisfied: typing-extensions~=3.7.4 in /usr/local/lib/python3.7/dist-packages (from tensorflow<2.7,>=2.6.0->tensorflow_text) (3.7.4.3)\n",
            "Requirement already satisfied: h5py~=3.1.0 in /usr/local/lib/python3.7/dist-packages (from tensorflow<2.7,>=2.6.0->tensorflow_text) (3.1.0)\n",
            "Requirement already satisfied: astunparse~=1.6.3 in /usr/local/lib/python3.7/dist-packages (from tensorflow<2.7,>=2.6.0->tensorflow_text) (1.6.3)\n",
            "Requirement already satisfied: wrapt~=1.12.1 in /usr/local/lib/python3.7/dist-packages (from tensorflow<2.7,>=2.6.0->tensorflow_text) (1.12.1)\n",
            "Requirement already satisfied: tensorboard~=2.6 in /usr/local/lib/python3.7/dist-packages (from tensorflow<2.7,>=2.6.0->tensorflow_text) (2.6.0)\n",
            "Requirement already satisfied: clang~=5.0 in /usr/local/lib/python3.7/dist-packages (from tensorflow<2.7,>=2.6.0->tensorflow_text) (5.0)\n",
            "Requirement already satisfied: wheel~=0.35 in /usr/local/lib/python3.7/dist-packages (from tensorflow<2.7,>=2.6.0->tensorflow_text) (0.37.0)\n",
            "Requirement already satisfied: keras~=2.6 in /usr/local/lib/python3.7/dist-packages (from tensorflow<2.7,>=2.6.0->tensorflow_text) (2.6.0)\n",
            "Requirement already satisfied: cached-property in /usr/local/lib/python3.7/dist-packages (from h5py~=3.1.0->tensorflow<2.7,>=2.6.0->tensorflow_text) (1.5.2)\n",
            "Requirement already satisfied: google-auth<2,>=1.6.3 in /usr/local/lib/python3.7/dist-packages (from tensorboard~=2.6->tensorflow<2.7,>=2.6.0->tensorflow_text) (1.35.0)\n",
            "Requirement already satisfied: setuptools>=41.0.0 in /usr/local/lib/python3.7/dist-packages (from tensorboard~=2.6->tensorflow<2.7,>=2.6.0->tensorflow_text) (57.4.0)\n",
            "Requirement already satisfied: werkzeug>=0.11.15 in /usr/local/lib/python3.7/dist-packages (from tensorboard~=2.6->tensorflow<2.7,>=2.6.0->tensorflow_text) (1.0.1)\n",
            "Requirement already satisfied: tensorboard-plugin-wit>=1.6.0 in /usr/local/lib/python3.7/dist-packages (from tensorboard~=2.6->tensorflow<2.7,>=2.6.0->tensorflow_text) (1.8.0)\n",
            "Requirement already satisfied: markdown>=2.6.8 in /usr/local/lib/python3.7/dist-packages (from tensorboard~=2.6->tensorflow<2.7,>=2.6.0->tensorflow_text) (3.3.4)\n",
            "Requirement already satisfied: requests<3,>=2.21.0 in /usr/local/lib/python3.7/dist-packages (from tensorboard~=2.6->tensorflow<2.7,>=2.6.0->tensorflow_text) (2.23.0)\n",
            "Requirement already satisfied: google-auth-oauthlib<0.5,>=0.4.1 in /usr/local/lib/python3.7/dist-packages (from tensorboard~=2.6->tensorflow<2.7,>=2.6.0->tensorflow_text) (0.4.6)\n",
            "Requirement already satisfied: tensorboard-data-server<0.7.0,>=0.6.0 in /usr/local/lib/python3.7/dist-packages (from tensorboard~=2.6->tensorflow<2.7,>=2.6.0->tensorflow_text) (0.6.1)\n",
            "Requirement already satisfied: pyasn1-modules>=0.2.1 in /usr/local/lib/python3.7/dist-packages (from google-auth<2,>=1.6.3->tensorboard~=2.6->tensorflow<2.7,>=2.6.0->tensorflow_text) (0.2.8)\n",
            "Requirement already satisfied: cachetools<5.0,>=2.0.0 in /usr/local/lib/python3.7/dist-packages (from google-auth<2,>=1.6.3->tensorboard~=2.6->tensorflow<2.7,>=2.6.0->tensorflow_text) (4.2.2)\n",
            "Requirement already satisfied: rsa<5,>=3.1.4 in /usr/local/lib/python3.7/dist-packages (from google-auth<2,>=1.6.3->tensorboard~=2.6->tensorflow<2.7,>=2.6.0->tensorflow_text) (4.7.2)\n",
            "Requirement already satisfied: requests-oauthlib>=0.7.0 in /usr/local/lib/python3.7/dist-packages (from google-auth-oauthlib<0.5,>=0.4.1->tensorboard~=2.6->tensorflow<2.7,>=2.6.0->tensorflow_text) (1.3.0)\n",
            "Requirement already satisfied: importlib-metadata in /usr/local/lib/python3.7/dist-packages (from markdown>=2.6.8->tensorboard~=2.6->tensorflow<2.7,>=2.6.0->tensorflow_text) (4.8.1)\n",
            "Requirement already satisfied: pyasn1<0.5.0,>=0.4.6 in /usr/local/lib/python3.7/dist-packages (from pyasn1-modules>=0.2.1->google-auth<2,>=1.6.3->tensorboard~=2.6->tensorflow<2.7,>=2.6.0->tensorflow_text) (0.4.8)\n",
            "Requirement already satisfied: idna<3,>=2.5 in /usr/local/lib/python3.7/dist-packages (from requests<3,>=2.21.0->tensorboard~=2.6->tensorflow<2.7,>=2.6.0->tensorflow_text) (2.10)\n",
            "Requirement already satisfied: chardet<4,>=3.0.2 in /usr/local/lib/python3.7/dist-packages (from requests<3,>=2.21.0->tensorboard~=2.6->tensorflow<2.7,>=2.6.0->tensorflow_text) (3.0.4)\n",
            "Requirement already satisfied: certifi>=2017.4.17 in /usr/local/lib/python3.7/dist-packages (from requests<3,>=2.21.0->tensorboard~=2.6->tensorflow<2.7,>=2.6.0->tensorflow_text) (2021.5.30)\n",
            "Requirement already satisfied: urllib3!=1.25.0,!=1.25.1,<1.26,>=1.21.1 in /usr/local/lib/python3.7/dist-packages (from requests<3,>=2.21.0->tensorboard~=2.6->tensorflow<2.7,>=2.6.0->tensorflow_text) (1.24.3)\n",
            "Requirement already satisfied: oauthlib>=3.0.0 in /usr/local/lib/python3.7/dist-packages (from requests-oauthlib>=0.7.0->google-auth-oauthlib<0.5,>=0.4.1->tensorboard~=2.6->tensorflow<2.7,>=2.6.0->tensorflow_text) (3.1.1)\n",
            "Requirement already satisfied: zipp>=0.5 in /usr/local/lib/python3.7/dist-packages (from importlib-metadata->markdown>=2.6.8->tensorboard~=2.6->tensorflow<2.7,>=2.6.0->tensorflow_text) (3.5.0)\n",
            "Installing collected packages: tensorflow-text\n",
            "Successfully installed tensorflow-text-2.6.0\n"
          ]
        }
      ]
    },
    {
      "cell_type": "code",
      "metadata": {
        "colab": {
          "base_uri": "https://localhost:8080/",
          "height": 203
        },
        "id": "PywpJXctyM9-",
        "outputId": "f0f40591-0ca8-47eb-ee7f-39b19a86b509"
      },
      "source": [
        "# load data\n",
        "df = pd.read_csv('spam_data.csv')\n",
        "df.head()"
      ],
      "execution_count": 4,
      "outputs": [
        {
          "output_type": "execute_result",
          "data": {
            "text/html": [
              "<div>\n",
              "<style scoped>\n",
              "    .dataframe tbody tr th:only-of-type {\n",
              "        vertical-align: middle;\n",
              "    }\n",
              "\n",
              "    .dataframe tbody tr th {\n",
              "        vertical-align: top;\n",
              "    }\n",
              "\n",
              "    .dataframe thead th {\n",
              "        text-align: right;\n",
              "    }\n",
              "</style>\n",
              "<table border=\"1\" class=\"dataframe\">\n",
              "  <thead>\n",
              "    <tr style=\"text-align: right;\">\n",
              "      <th></th>\n",
              "      <th>Category</th>\n",
              "      <th>Message</th>\n",
              "    </tr>\n",
              "  </thead>\n",
              "  <tbody>\n",
              "    <tr>\n",
              "      <th>0</th>\n",
              "      <td>ham</td>\n",
              "      <td>Go until jurong point, crazy.. Available only ...</td>\n",
              "    </tr>\n",
              "    <tr>\n",
              "      <th>1</th>\n",
              "      <td>ham</td>\n",
              "      <td>Ok lar... Joking wif u oni...</td>\n",
              "    </tr>\n",
              "    <tr>\n",
              "      <th>2</th>\n",
              "      <td>spam</td>\n",
              "      <td>Free entry in 2 a wkly comp to win FA Cup fina...</td>\n",
              "    </tr>\n",
              "    <tr>\n",
              "      <th>3</th>\n",
              "      <td>ham</td>\n",
              "      <td>U dun say so early hor... U c already then say...</td>\n",
              "    </tr>\n",
              "    <tr>\n",
              "      <th>4</th>\n",
              "      <td>ham</td>\n",
              "      <td>Nah I don't think he goes to usf, he lives aro...</td>\n",
              "    </tr>\n",
              "  </tbody>\n",
              "</table>\n",
              "</div>"
            ],
            "text/plain": [
              "  Category                                            Message\n",
              "0      ham  Go until jurong point, crazy.. Available only ...\n",
              "1      ham                      Ok lar... Joking wif u oni...\n",
              "2     spam  Free entry in 2 a wkly comp to win FA Cup fina...\n",
              "3      ham  U dun say so early hor... U c already then say...\n",
              "4      ham  Nah I don't think he goes to usf, he lives aro..."
            ]
          },
          "metadata": {},
          "execution_count": 4
        }
      ]
    },
    {
      "cell_type": "code",
      "metadata": {
        "colab": {
          "base_uri": "https://localhost:8080/"
        },
        "id": "twwgUrp9yQc9",
        "outputId": "456f38d3-d842-496c-d4e6-358b6dcf0d0c"
      },
      "source": [
        "# check count and unique and top values and their frequency\n",
        "df['Category'].value_counts()"
      ],
      "execution_count": 5,
      "outputs": [
        {
          "output_type": "execute_result",
          "data": {
            "text/plain": [
              "ham     4825\n",
              "spam     747\n",
              "Name: Category, dtype: int64"
            ]
          },
          "metadata": {},
          "execution_count": 5
        }
      ]
    },
    {
      "cell_type": "code",
      "metadata": {
        "colab": {
          "base_uri": "https://localhost:8080/"
        },
        "id": "9sRyKN6CzIMK",
        "outputId": "c5bafac4-3eeb-425c-f5d7-7a812ac5f627"
      },
      "source": [
        "# check percentage of data - states how much data needs to be balanced\n",
        "print(str(round(747/4825,2))+'%')"
      ],
      "execution_count": 6,
      "outputs": [
        {
          "output_type": "stream",
          "name": "stdout",
          "text": [
            "0.15%\n"
          ]
        }
      ]
    },
    {
      "cell_type": "code",
      "metadata": {
        "colab": {
          "base_uri": "https://localhost:8080/"
        },
        "id": "7r763BlxzPA3",
        "outputId": "7880cf5c-4dca-4a50-9398-9c0167944bae"
      },
      "source": [
        "# creating 2 new dataframe as df_ham , df_spam\n",
        "\n",
        "df_spam = df[df['Category']=='spam']\n",
        "\n",
        "df_ham = df[df['Category']=='ham']\n",
        "\n",
        "print(\"Ham Dataset Shape:\", df_ham.shape)\n",
        "\n",
        "print(\"Spam Dataset Shape:\", df_spam.shape)"
      ],
      "execution_count": 7,
      "outputs": [
        {
          "output_type": "stream",
          "name": "stdout",
          "text": [
            "Ham Dataset Shape: (4825, 2)\n",
            "Spam Dataset Shape: (747, 2)\n"
          ]
        }
      ]
    },
    {
      "cell_type": "code",
      "metadata": {
        "colab": {
          "base_uri": "https://localhost:8080/"
        },
        "id": "2tYR7KsAzSTB",
        "outputId": "c8ae981d-dd15-4223-9c3a-a268f3dfd40c"
      },
      "source": [
        "# downsampling ham dataset - take only random 747 example\n",
        "# will use df_spam.shape[0] - 747\n",
        "df_ham_downsampled = df_ham.sample(df_spam.shape[0])\n",
        "df_ham_downsampled.shape"
      ],
      "execution_count": 9,
      "outputs": [
        {
          "output_type": "execute_result",
          "data": {
            "text/plain": [
              "(747, 2)"
            ]
          },
          "metadata": {},
          "execution_count": 9
        }
      ]
    },
    {
      "cell_type": "code",
      "metadata": {
        "id": "p2WPkOlAzgsC"
      },
      "source": [
        "# concating both dataset - df_spam and df_ham_balanced to create df_balanced dataset\n",
        "df_balanced = pd.concat([df_spam , df_ham_downsampled])"
      ],
      "execution_count": 10,
      "outputs": []
    },
    {
      "cell_type": "code",
      "metadata": {
        "colab": {
          "base_uri": "https://localhost:8080/"
        },
        "id": "ILiFiW0czopX",
        "outputId": "0ef8a7cb-c086-4ca5-ee50-24af17caf7d2"
      },
      "source": [
        "df_balanced['Category'].value_counts()"
      ],
      "execution_count": 11,
      "outputs": [
        {
          "output_type": "execute_result",
          "data": {
            "text/plain": [
              "spam    747\n",
              "ham     747\n",
              "Name: Category, dtype: int64"
            ]
          },
          "metadata": {},
          "execution_count": 11
        }
      ]
    },
    {
      "cell_type": "code",
      "metadata": {
        "colab": {
          "base_uri": "https://localhost:8080/",
          "height": 357
        },
        "id": "ReZHnzFEzqCR",
        "outputId": "3d11a1a8-242e-4b8c-938f-c7d778522a0b"
      },
      "source": [
        "df_balanced.sample(10)"
      ],
      "execution_count": 12,
      "outputs": [
        {
          "output_type": "execute_result",
          "data": {
            "text/html": [
              "<div>\n",
              "<style scoped>\n",
              "    .dataframe tbody tr th:only-of-type {\n",
              "        vertical-align: middle;\n",
              "    }\n",
              "\n",
              "    .dataframe tbody tr th {\n",
              "        vertical-align: top;\n",
              "    }\n",
              "\n",
              "    .dataframe thead th {\n",
              "        text-align: right;\n",
              "    }\n",
              "</style>\n",
              "<table border=\"1\" class=\"dataframe\">\n",
              "  <thead>\n",
              "    <tr style=\"text-align: right;\">\n",
              "      <th></th>\n",
              "      <th>Category</th>\n",
              "      <th>Message</th>\n",
              "    </tr>\n",
              "  </thead>\n",
              "  <tbody>\n",
              "    <tr>\n",
              "      <th>4208</th>\n",
              "      <td>ham</td>\n",
              "      <td>Lets use it next week, princess :)</td>\n",
              "    </tr>\n",
              "    <tr>\n",
              "      <th>5268</th>\n",
              "      <td>ham</td>\n",
              "      <td>ER, ENJOYIN INDIANS AT THE MO..yeP. SaLL gOoD ...</td>\n",
              "    </tr>\n",
              "    <tr>\n",
              "      <th>4806</th>\n",
              "      <td>ham</td>\n",
              "      <td>Sorry for the delay. Yes masters</td>\n",
              "    </tr>\n",
              "    <tr>\n",
              "      <th>5112</th>\n",
              "      <td>spam</td>\n",
              "      <td>December only! Had your mobile 11mths+? You ar...</td>\n",
              "    </tr>\n",
              "    <tr>\n",
              "      <th>5312</th>\n",
              "      <td>ham</td>\n",
              "      <td>Here got ur favorite oyster... N got my favori...</td>\n",
              "    </tr>\n",
              "    <tr>\n",
              "      <th>1304</th>\n",
              "      <td>ham</td>\n",
              "      <td>I cant pick the phone right now. Pls send a me...</td>\n",
              "    </tr>\n",
              "    <tr>\n",
              "      <th>160</th>\n",
              "      <td>spam</td>\n",
              "      <td>You are a winner U have been specially selecte...</td>\n",
              "    </tr>\n",
              "    <tr>\n",
              "      <th>3028</th>\n",
              "      <td>ham</td>\n",
              "      <td>You still at the game?</td>\n",
              "    </tr>\n",
              "    <tr>\n",
              "      <th>420</th>\n",
              "      <td>spam</td>\n",
              "      <td>Send a logo 2 ur lover - 2 names joined by a h...</td>\n",
              "    </tr>\n",
              "    <tr>\n",
              "      <th>3138</th>\n",
              "      <td>ham</td>\n",
              "      <td>You're right I have now that I think about it</td>\n",
              "    </tr>\n",
              "  </tbody>\n",
              "</table>\n",
              "</div>"
            ],
            "text/plain": [
              "     Category                                            Message\n",
              "4208      ham                 Lets use it next week, princess :)\n",
              "5268      ham  ER, ENJOYIN INDIANS AT THE MO..yeP. SaLL gOoD ...\n",
              "4806      ham                   Sorry for the delay. Yes masters\n",
              "5112     spam  December only! Had your mobile 11mths+? You ar...\n",
              "5312      ham  Here got ur favorite oyster... N got my favori...\n",
              "1304      ham  I cant pick the phone right now. Pls send a me...\n",
              "160      spam  You are a winner U have been specially selecte...\n",
              "3028      ham                             You still at the game?\n",
              "420      spam  Send a logo 2 ur lover - 2 names joined by a h...\n",
              "3138      ham      You're right I have now that I think about it"
            ]
          },
          "metadata": {},
          "execution_count": 12
        }
      ]
    },
    {
      "cell_type": "code",
      "metadata": {
        "id": "UfNDNwG3z8If"
      },
      "source": [
        "# creating numerical repersentation of category - one hot encoding\n",
        "df_balanced['spam'] = df_balanced['Category'].apply(lambda x:1 if x=='spam' else 0)"
      ],
      "execution_count": 13,
      "outputs": []
    },
    {
      "cell_type": "code",
      "metadata": {
        "colab": {
          "base_uri": "https://localhost:8080/",
          "height": 172
        },
        "id": "7OEM0csA0Zs2",
        "outputId": "77ae4372-e77a-459f-f810-f46860cc95e5"
      },
      "source": [
        "# displaying data - spam -1 , ham-0\n",
        "df_balanced.sample(4)"
      ],
      "execution_count": 14,
      "outputs": [
        {
          "output_type": "execute_result",
          "data": {
            "text/html": [
              "<div>\n",
              "<style scoped>\n",
              "    .dataframe tbody tr th:only-of-type {\n",
              "        vertical-align: middle;\n",
              "    }\n",
              "\n",
              "    .dataframe tbody tr th {\n",
              "        vertical-align: top;\n",
              "    }\n",
              "\n",
              "    .dataframe thead th {\n",
              "        text-align: right;\n",
              "    }\n",
              "</style>\n",
              "<table border=\"1\" class=\"dataframe\">\n",
              "  <thead>\n",
              "    <tr style=\"text-align: right;\">\n",
              "      <th></th>\n",
              "      <th>Category</th>\n",
              "      <th>Message</th>\n",
              "      <th>spam</th>\n",
              "    </tr>\n",
              "  </thead>\n",
              "  <tbody>\n",
              "    <tr>\n",
              "      <th>2124</th>\n",
              "      <td>spam</td>\n",
              "      <td>#ERROR!</td>\n",
              "      <td>1</td>\n",
              "    </tr>\n",
              "    <tr>\n",
              "      <th>5156</th>\n",
              "      <td>ham</td>\n",
              "      <td>Sir, I need Velusamy sir's date of birth and c...</td>\n",
              "      <td>0</td>\n",
              "    </tr>\n",
              "    <tr>\n",
              "      <th>15</th>\n",
              "      <td>spam</td>\n",
              "      <td>XXXMobileMovieClub: To use your credit, click ...</td>\n",
              "      <td>1</td>\n",
              "    </tr>\n",
              "    <tr>\n",
              "      <th>3556</th>\n",
              "      <td>spam</td>\n",
              "      <td>From next month get upto 50% More Calls 4 Ur s...</td>\n",
              "      <td>1</td>\n",
              "    </tr>\n",
              "  </tbody>\n",
              "</table>\n",
              "</div>"
            ],
            "text/plain": [
              "     Category                                            Message  spam\n",
              "2124     spam                                            #ERROR!     1\n",
              "5156      ham  Sir, I need Velusamy sir's date of birth and c...     0\n",
              "15       spam  XXXMobileMovieClub: To use your credit, click ...     1\n",
              "3556     spam  From next month get upto 50% More Calls 4 Ur s...     1"
            ]
          },
          "metadata": {},
          "execution_count": 14
        }
      ]
    },
    {
      "cell_type": "code",
      "metadata": {
        "id": "pB_Ca-kj0poz"
      },
      "source": [
        "# loading train test split\n",
        "from sklearn.model_selection import train_test_split\n",
        "X_train, X_test , y_train, y_test = train_test_split(df_balanced['Message'], df_balanced['spam'],\n",
        "                                                    stratify = df_balanced['spam'])"
      ],
      "execution_count": 15,
      "outputs": []
    },
    {
      "cell_type": "markdown",
      "metadata": {
        "id": "3Hlq6c531i5g"
      },
      "source": [
        "Model Creation"
      ]
    },
    {
      "cell_type": "code",
      "metadata": {
        "id": "v0xQkTjW0rzn"
      },
      "source": [
        "# downloading preprocessing files and model\n",
        "bert_preprocessor = hub.KerasLayer('https://tfhub.dev/tensorflow/bert_en_uncased_preprocess/3')\n",
        "bert_encoder = hub.KerasLayer('https://tfhub.dev/tensorflow/bert_en_uncased_L-12_H-768_A-12/4')"
      ],
      "execution_count": 16,
      "outputs": []
    },
    {
      "cell_type": "code",
      "metadata": {
        "id": "xZNbj-0d0_TR"
      },
      "source": [
        "text_input = tf.keras.layers.Input(shape = (), dtype = tf.string, name = 'Inputs')\n",
        "preprocessed_text = bert_preprocessor(text_input)\n",
        "embeed = bert_encoder(preprocessed_text)\n",
        "dropout = tf.keras.layers.Dropout(0.1, name = 'Dropout')(embeed['pooled_output'])\n",
        "outputs = tf.keras.layers.Dense(1, activation = 'sigmoid', name = 'Dense')(dropout)"
      ],
      "execution_count": 17,
      "outputs": []
    },
    {
      "cell_type": "code",
      "metadata": {
        "id": "BEtI-DKr1AVK"
      },
      "source": [
        "# creating final model\n",
        "model = tf.keras.Model(inputs = [text_input], outputs = [outputs])"
      ],
      "execution_count": 18,
      "outputs": []
    },
    {
      "cell_type": "code",
      "metadata": {
        "colab": {
          "base_uri": "https://localhost:8080/"
        },
        "id": "-Q3WxKdp1Ff-",
        "outputId": "75b29bac-85cc-4b74-fe49-09a044682c86"
      },
      "source": [
        "# check the summary of the model\n",
        "model.summary()"
      ],
      "execution_count": 19,
      "outputs": [
        {
          "output_type": "stream",
          "name": "stdout",
          "text": [
            "Model: \"model\"\n",
            "__________________________________________________________________________________________________\n",
            "Layer (type)                    Output Shape         Param #     Connected to                     \n",
            "==================================================================================================\n",
            "Inputs (InputLayer)             [(None,)]            0                                            \n",
            "__________________________________________________________________________________________________\n",
            "keras_layer (KerasLayer)        {'input_word_ids': ( 0           Inputs[0][0]                     \n",
            "__________________________________________________________________________________________________\n",
            "keras_layer_1 (KerasLayer)      {'encoder_outputs':  109482241   keras_layer[0][0]                \n",
            "                                                                 keras_layer[0][1]                \n",
            "                                                                 keras_layer[0][2]                \n",
            "__________________________________________________________________________________________________\n",
            "Dropout (Dropout)               (None, 768)          0           keras_layer_1[0][13]             \n",
            "__________________________________________________________________________________________________\n",
            "Dense (Dense)                   (None, 1)            769         Dropout[0][0]                    \n",
            "==================================================================================================\n",
            "Total params: 109,483,010\n",
            "Trainable params: 769\n",
            "Non-trainable params: 109,482,241\n",
            "__________________________________________________________________________________________________\n"
          ]
        }
      ]
    },
    {
      "cell_type": "code",
      "metadata": {
        "id": "4YKyXDAx1NO5"
      },
      "source": [
        "Metrics = [tf.keras.metrics.BinaryAccuracy(name = 'accuracy'),\n",
        "           tf.keras.metrics.Precision(name = 'precision'),\n",
        "           tf.keras.metrics.Recall(name = 'recall')\n",
        "           ]\n"
      ],
      "execution_count": 20,
      "outputs": []
    },
    {
      "cell_type": "code",
      "metadata": {
        "id": "bPGL7lYd1Pan"
      },
      "source": [
        "# compiling our model\n",
        "model.compile(optimizer ='adam',\n",
        "               loss = 'binary_crossentropy',\n",
        "               metrics = Metrics)"
      ],
      "execution_count": 21,
      "outputs": []
    },
    {
      "cell_type": "code",
      "metadata": {
        "colab": {
          "base_uri": "https://localhost:8080/"
        },
        "id": "VOu0n4UC1XR_",
        "outputId": "7dc6ea6d-9ce3-4011-84f5-b2b5b3c334a5"
      },
      "source": [
        "history = model.fit(X_train, y_train, epochs = 10)"
      ],
      "execution_count": 22,
      "outputs": [
        {
          "output_type": "stream",
          "name": "stdout",
          "text": [
            "Epoch 1/10\n",
            "35/35 [==============================] - 484s 14s/step - loss: 0.6300 - accuracy: 0.6554 - precision: 0.6593 - recall: 0.6429\n",
            "Epoch 2/10\n",
            "35/35 [==============================] - 473s 14s/step - loss: 0.5163 - accuracy: 0.8089 - precision: 0.7973 - recall: 0.8286\n",
            "Epoch 3/10\n",
            "35/35 [==============================] - 473s 14s/step - loss: 0.4476 - accuracy: 0.8589 - precision: 0.8502 - recall: 0.8714\n",
            "Epoch 4/10\n",
            "35/35 [==============================] - 475s 14s/step - loss: 0.4064 - accuracy: 0.8705 - precision: 0.8547 - recall: 0.8929\n",
            "Epoch 5/10\n",
            "35/35 [==============================] - 476s 14s/step - loss: 0.3700 - accuracy: 0.8839 - precision: 0.8607 - recall: 0.9161\n",
            "Epoch 6/10\n",
            "35/35 [==============================] - 477s 14s/step - loss: 0.3436 - accuracy: 0.9054 - precision: 0.8900 - recall: 0.9250\n",
            "Epoch 7/10\n",
            "35/35 [==============================] - 475s 14s/step - loss: 0.3281 - accuracy: 0.8982 - precision: 0.8926 - recall: 0.9054\n",
            "Epoch 8/10\n",
            "35/35 [==============================] - 475s 14s/step - loss: 0.3100 - accuracy: 0.8964 - precision: 0.8854 - recall: 0.9107\n",
            "Epoch 9/10\n",
            "35/35 [==============================] - 477s 14s/step - loss: 0.2979 - accuracy: 0.9054 - precision: 0.8982 - recall: 0.9143\n",
            "Epoch 10/10\n",
            "35/35 [==============================] - 477s 14s/step - loss: 0.2841 - accuracy: 0.9161 - precision: 0.8963 - recall: 0.9411\n"
          ]
        }
      ]
    },
    {
      "cell_type": "markdown",
      "metadata": {
        "id": "FUQAqqVE1dNr"
      },
      "source": [
        "Model Evaluation"
      ]
    },
    {
      "cell_type": "code",
      "metadata": {
        "id": "zlJuRATu1ng-"
      },
      "source": [
        "# Evaluating performance\n",
        "model.evaluate(X_test,y_test)"
      ],
      "execution_count": null,
      "outputs": []
    },
    {
      "cell_type": "code",
      "metadata": {
        "id": "YIv_Cklo1wUP"
      },
      "source": [
        "# getting y_pred by predicting over X_text and flattening it\n",
        "y_pred = model.predict(X_test)\n",
        "y_pred = y_pred.flatten() # require to be in one-dimensional array , for easy manipulation\n",
        "# importing confusion maxtrix\n",
        "\n",
        "from sklearn.metrics import confusion_matrix , classification_report\n",
        "\n",
        "# creating confusion matrix \n",
        "\n",
        "cm = confusion_matrix(y_test,y_pred)\n",
        "\n",
        "cm"
      ],
      "execution_count": null,
      "outputs": []
    },
    {
      "cell_type": "code",
      "metadata": {
        "id": "WCCYGJO41zWm"
      },
      "source": [
        "# plotting as a graph - importing seaborn\n",
        "import seaborn as sns"
      ],
      "execution_count": null,
      "outputs": []
    },
    {
      "cell_type": "code",
      "metadata": {
        "id": "ouoLk9h-13CD"
      },
      "source": [
        "# creating a graph out of confusion matrix\n",
        "sns.heatmap(cm, annot = True, fmt = 'd')\n",
        "plt.xlabel('Predicted')\n",
        "plt.ylabel('Actual')"
      ],
      "execution_count": null,
      "outputs": []
    },
    {
      "cell_type": "code",
      "metadata": {
        "id": "in4yd7Xo2BRI"
      },
      "source": [
        "# printing classification report\n",
        "print(classification_report(y_test , y_pred))"
      ],
      "execution_count": null,
      "outputs": []
    },
    {
      "cell_type": "markdown",
      "metadata": {
        "id": "IU54a28A2BrR"
      },
      "source": [
        "Model Prediction for Spam Detection Using BERT"
      ]
    },
    {
      "cell_type": "code",
      "metadata": {
        "id": "EM8IFrCA2EMS"
      },
      "source": [
        "predict_text = [\n",
        "                # Spam\n",
        "                'We’d all like to get a $10,000 deposit on our bank accounts out of the blue, but winning a prize—especially if you’ve never entered a contest', \n",
        "                'Netflix is sending you a refund of $12.99. Please reply with your bank account and routing number to verify and get your refund', \n",
        "                'Your account is temporarily frozen. Please log in to to secure your account ', \n",
        "                #ham\n",
        "                'The article was published on 18th August itself',\n",
        "                'Although we are unable to give you an exact time-frame at the moment, I would request you to stay tuned for any updates.',\n",
        "                'The image you sent is a UI bug, I can check that your article is marked as regular and is not in the monetization program.'\n",
        "]"
      ],
      "execution_count": null,
      "outputs": []
    },
    {
      "cell_type": "code",
      "metadata": {
        "id": "flTTVAbW2ITQ"
      },
      "source": [
        "test_results = model.predict(predict_text)\n",
        "output = np.where(test_results>0.5,'spam', 'ham')"
      ],
      "execution_count": null,
      "outputs": []
    }
  ]
}